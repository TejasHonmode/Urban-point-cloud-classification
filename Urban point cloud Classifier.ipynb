{
 "cells": [
  {
   "cell_type": "code",
   "execution_count": 1,
   "metadata": {},
   "outputs": [
    {
     "name": "stderr",
     "output_type": "stream",
     "text": [
      "Using TensorFlow backend.\n"
     ]
    }
   ],
   "source": [
    "##The required library are imported here\n",
    "import numpy as np\n",
    "import matplotlib.pyplot as plt\n",
    "import pandas as pd\n",
    "from pyntcloud import PyntCloud\n",
    "from pyntcloud import scalar_fields\n",
    "from sklearn.ensemble import RandomForestClassifier\n",
    "from sklearn.metrics import accuracy_score\n",
    "from sklearn.ensemble import GradientBoostingClassifier\n",
    "from sklearn.neighbors.kde import KernelDensity\n",
    "import keras\n",
    "import tensorflow"
   ]
  },
  {
   "cell_type": "code",
   "execution_count": 2,
   "metadata": {},
   "outputs": [
    {
     "name": "stdout",
     "output_type": "stream",
     "text": [
      "PyntCloud\n",
      "10000000 points with 3 scalar fields\n",
      "0 faces in mesh\n",
      "0 kdtrees\n",
      "0 voxelgrids\n",
      "Centroid: -7.090676784515381, -124.74476623535156, 45.12932205200195\n",
      "Other attributes:\n",
      "\n"
     ]
    }
   ],
   "source": [
    "##The point cloud dataset is taken as input and it is stored in the form of pandas dataframe\n",
    "cloud=PyntCloud.from_file(\"/home/rahul/machine learning/Projects/rueMadame_database/GT_Madame1_2.ply\")\n",
    "print(cloud)"
   ]
  },
  {
   "cell_type": "code",
   "execution_count": 3,
   "metadata": {},
   "outputs": [
    {
     "data": {
      "text/html": [
       "<div>\n",
       "<style scoped>\n",
       "    .dataframe tbody tr th:only-of-type {\n",
       "        vertical-align: middle;\n",
       "    }\n",
       "\n",
       "    .dataframe tbody tr th {\n",
       "        vertical-align: top;\n",
       "    }\n",
       "\n",
       "    .dataframe thead th {\n",
       "        text-align: right;\n",
       "    }\n",
       "</style>\n",
       "<table border=\"1\" class=\"dataframe\">\n",
       "  <thead>\n",
       "    <tr style=\"text-align: right;\">\n",
       "      <th></th>\n",
       "      <th>x</th>\n",
       "      <th>y</th>\n",
       "      <th>z</th>\n",
       "      <th>reflectance</th>\n",
       "      <th>label</th>\n",
       "      <th>class</th>\n",
       "    </tr>\n",
       "  </thead>\n",
       "  <tbody>\n",
       "    <tr>\n",
       "      <th>0</th>\n",
       "      <td>4.971637</td>\n",
       "      <td>-79.606361</td>\n",
       "      <td>43.221432</td>\n",
       "      <td>135.0</td>\n",
       "      <td>13</td>\n",
       "      <td>1</td>\n",
       "    </tr>\n",
       "    <tr>\n",
       "      <th>1</th>\n",
       "      <td>3.571728</td>\n",
       "      <td>-81.574989</td>\n",
       "      <td>42.445904</td>\n",
       "      <td>195.0</td>\n",
       "      <td>323</td>\n",
       "      <td>2</td>\n",
       "    </tr>\n",
       "    <tr>\n",
       "      <th>2</th>\n",
       "      <td>4.993350</td>\n",
       "      <td>-79.458405</td>\n",
       "      <td>43.303757</td>\n",
       "      <td>135.0</td>\n",
       "      <td>13</td>\n",
       "      <td>1</td>\n",
       "    </tr>\n",
       "    <tr>\n",
       "      <th>3</th>\n",
       "      <td>3.720481</td>\n",
       "      <td>-81.474182</td>\n",
       "      <td>42.465771</td>\n",
       "      <td>195.0</td>\n",
       "      <td>323</td>\n",
       "      <td>2</td>\n",
       "    </tr>\n",
       "    <tr>\n",
       "      <th>4</th>\n",
       "      <td>5.009287</td>\n",
       "      <td>-79.310478</td>\n",
       "      <td>43.387627</td>\n",
       "      <td>155.0</td>\n",
       "      <td>13</td>\n",
       "      <td>1</td>\n",
       "    </tr>\n",
       "  </tbody>\n",
       "</table>\n",
       "</div>"
      ],
      "text/plain": [
       "          x          y          z  reflectance  label  class\n",
       "0  4.971637 -79.606361  43.221432        135.0     13      1\n",
       "1  3.571728 -81.574989  42.445904        195.0    323      2\n",
       "2  4.993350 -79.458405  43.303757        135.0     13      1\n",
       "3  3.720481 -81.474182  42.465771        195.0    323      2\n",
       "4  5.009287 -79.310478  43.387627        155.0     13      1"
      ]
     },
     "execution_count": 3,
     "metadata": {},
     "output_type": "execute_result"
    }
   ],
   "source": [
    "cloud.points.head()"
   ]
  },
  {
   "cell_type": "code",
   "execution_count": 4,
   "metadata": {},
   "outputs": [
    {
     "data": {
      "text/plain": [
       "<matplotlib.axes._subplots.AxesSubplot at 0x7f5cdf203208>"
      ]
     },
     "execution_count": 4,
     "metadata": {},
     "output_type": "execute_result"
    },
    {
     "data": {
      "image/png": "[encoded data removed]",
      "text/plain": [
       "<Figure size 432x288 with 1 Axes>"
      ]
     },
     "metadata": {},
     "output_type": "display_data"
    }
   ],
   "source": [
    "cloud.points.boxplot()"
   ]
  },
  {
   "cell_type": "code",
   "execution_count": 5,
   "metadata": {},
   "outputs": [
    {
     "data": {
      "application/vnd.jupyter.widget-view+json": {
       "model_id": "680b62e368df4589a2494ece11423823",
       "version_major": 2,
       "version_minor": 0
      },
      "text/plain": [
       "Renderer(camera=PerspectiveCamera(aspect=1.6, fov=90.0, position=(-7.090676784515381, -51.14215087890625, 163.…"
      ]
     },
     "metadata": {},
     "output_type": "display_data"
    },
    {
     "data": {
      "application/vnd.jupyter.widget-view+json": {
       "model_id": "7969cad04ce648b9a7df55b1ac255bd0",
       "version_major": 2,
       "version_minor": 0
      },
      "text/plain": [
       "HBox(children=(Label(value='Background color:'), ColorPicker(value='black'), Label(value='Point size:'), Float…"
      ]
     },
     "metadata": {},
     "output_type": "display_data"
    }
   ],
   "source": [
    "##Visualization of point cloud\n",
    "cloud.plot()"
   ]
  },
  {
   "cell_type": "code",
   "execution_count": 6,
   "metadata": {},
   "outputs": [
    {
     "name": "stdout",
     "output_type": "stream",
     "text": [
      "PyntCloud\n",
      "10000000 points with 3 scalar fields\n",
      "0 faces in mesh\n",
      "0 kdtrees\n",
      "0 voxelgrids\n",
      "Centroid: -12.104286193847656, -197.56027221679688, 46.1270637512207\n",
      "Other attributes:\n",
      "\n"
     ]
    }
   ],
   "source": [
    "cloud1=PyntCloud.from_file(\"/home/rahul/machine learning/Projects/rueMadame_database/GT_Madame1_3.ply\")\n",
    "print(cloud1)"
   ]
  },
  {
   "cell_type": "code",
   "execution_count": 7,
   "metadata": {},
   "outputs": [
    {
     "data": {
      "application/vnd.jupyter.widget-view+json": {
       "model_id": "01dc75ecd11e40fa9e573c1d5c4a7703",
       "version_major": 2,
       "version_minor": 0
      },
      "text/plain": [
       "Renderer(camera=PerspectiveCamera(aspect=1.6, fov=90.0, position=(-12.104286193847656, -35.43043518066406, 166…"
      ]
     },
     "metadata": {},
     "output_type": "display_data"
    },
    {
     "data": {
      "application/vnd.jupyter.widget-view+json": {
       "model_id": "3bc6ba9ca51a48bb869868c0a4ff5fff",
       "version_major": 2,
       "version_minor": 0
      },
      "text/plain": [
       "HBox(children=(Label(value='Background color:'), ColorPicker(value='black'), Label(value='Point size:'), Float…"
      ]
     },
     "metadata": {},
     "output_type": "display_data"
    }
   ],
   "source": [
    "cloud1.plot()"
   ]
  },
  {
   "cell_type": "code",
   "execution_count": 8,
   "metadata": {},
   "outputs": [],
   "source": [
    "cloud3=PyntCloud(cloud.points[cloud.points[\"class\"]!=2])\n",
    "cloud3=PyntCloud(cloud3.points[cloud3.points[\"class\"]!=1])"
   ]
  },
  {
   "cell_type": "code",
   "execution_count": 9,
   "metadata": {},
   "outputs": [
    {
     "data": {
      "text/plain": [
       "4     790822\n",
       "10     81745\n",
       "14     11463\n",
       "9       3656\n",
       "19      3030\n",
       "15      2542\n",
       "22      1915\n",
       "20       983\n",
       "24       491\n",
       "23       384\n",
       "25       379\n",
       "21       111\n",
       "0          3\n",
       "Name: class, dtype: int64"
      ]
     },
     "execution_count": 9,
     "metadata": {},
     "output_type": "execute_result"
    }
   ],
   "source": [
    "#voxel grid downsampling will be done here\n",
    "#open3d.voxelgrid_downsampling(cloud,voxel=0.5)\n",
    "cloud3.points[\"class\"].value_counts()"
   ]
  },
  {
   "cell_type": "code",
   "execution_count": 10,
   "metadata": {},
   "outputs": [
    {
     "data": {
      "application/vnd.jupyter.widget-view+json": {
       "model_id": "b5dd5aee6b5c47ceb6c3e1662f055cd5",
       "version_major": 2,
       "version_minor": 0
      },
      "text/plain": [
       "Renderer(camera=PerspectiveCamera(aspect=1.6, fov=90.0, position=(-7.812506198883057, -51.271156311035156, 155…"
      ]
     },
     "metadata": {},
     "output_type": "display_data"
    },
    {
     "data": {
      "application/vnd.jupyter.widget-view+json": {
       "model_id": "23baf55a64a1419994c222a747cc484a",
       "version_major": 2,
       "version_minor": 0
      },
      "text/plain": [
       "HBox(children=(Label(value='Background color:'), ColorPicker(value='black'), Label(value='Point size:'), Float…"
      ]
     },
     "metadata": {},
     "output_type": "display_data"
    }
   ],
   "source": [
    "cloud3.plot()"
   ]
  },
  {
   "cell_type": "code",
   "execution_count": 11,
   "metadata": {},
   "outputs": [],
   "source": [
    "##Cacluate 10 neighbours for determining the geometrical features of each point\n",
    "neigh=cloud3.get_neighbors(k=50)\n"
   ]
  },
  {
   "cell_type": "code",
   "execution_count": 12,
   "metadata": {},
   "outputs": [
    {
     "data": {
      "text/plain": [
       "(897524, 50)"
      ]
     },
     "execution_count": 12,
     "metadata": {},
     "output_type": "execute_result"
    }
   ],
   "source": [
    "neigh.shape"
   ]
  },
  {
   "cell_type": "code",
   "execution_count": 13,
   "metadata": {},
   "outputs": [],
   "source": [
    "\n",
    "#kde=KernelDensity(kernel='gaussian',bandwidth=0.2).fit(cloud3.points[['x','y','z']])\n",
    "#density=kde.score_samples(cloud3.points[['x','y','z']])\n",
    "#cloud3.points.add(density,axis=1)\n",
    "\n",
    "#vox=cloud3.add_structure(\"voxelgrid\")\n",
    "#vox_x=cloud3.add_scalar_field(\"voxel_x\",voxelgrid_id=vox)\n",
    "#vox_y=cloud3.add_scalar_field(\"voxel_y\",voxelgrid_id=vox)\n",
    "#vox_n=cloud3.add_scalar_field(\"voxel_n\",voxelgrid_id=vox)\n",
    "#vox_z=cloud3.add_scalar_field(\"voxel_z\",voxelgrid_id=vox)\n",
    "#inc=cloud.add_scalar_field(\"inclination_degrees\")\n",
    "#ori=cloud.add_scalar_field(\"orientation_degrees\")\n",
    "eig=cloud3.add_scalar_field(\"eigen_values\",k_neighbors=neigh)\n",
    "ani=cloud3.add_scalar_field(\"anisotropy\",ev=eig)\n",
    "cur=cloud3.add_scalar_field(\"curvature\",ev=eig)\n",
    "eigent=cloud3.add_scalar_field(\"eigenentropy\",ev=eig)\n",
    "su=cloud3.add_scalar_field(\"eigen_sum\",ev=eig)\n",
    "lin=cloud3.add_scalar_field(\"linearity\",ev=eig)\n",
    "om=cloud3.add_scalar_field(\"omnivariance\",ev=eig)\n",
    "pla=cloud3.add_scalar_field(\"planarity\",ev=eig)\n",
    "sph=cloud3.add_scalar_field(\"sphericity\",ev=eig)\n"
   ]
  },
  {
   "cell_type": "code",
   "execution_count": 14,
   "metadata": {},
   "outputs": [
    {
     "data": {
      "text/html": [
       "<div>\n",
       "<style scoped>\n",
       "    .dataframe tbody tr th:only-of-type {\n",
       "        vertical-align: middle;\n",
       "    }\n",
       "\n",
       "    .dataframe tbody tr th {\n",
       "        vertical-align: top;\n",
       "    }\n",
       "\n",
       "    .dataframe thead th {\n",
       "        text-align: right;\n",
       "    }\n",
       "</style>\n",
       "<table border=\"1\" class=\"dataframe\">\n",
       "  <thead>\n",
       "    <tr style=\"text-align: right;\">\n",
       "      <th></th>\n",
       "      <th>x</th>\n",
       "      <th>y</th>\n",
       "      <th>z</th>\n",
       "      <th>reflectance</th>\n",
       "      <th>label</th>\n",
       "      <th>class</th>\n",
       "      <th>e1(51)</th>\n",
       "      <th>e2(51)</th>\n",
       "      <th>e3(51)</th>\n",
       "      <th>anisotropy(51)</th>\n",
       "      <th>curvature(51)</th>\n",
       "      <th>eigenentropy(51)</th>\n",
       "      <th>eigen_sum(51)</th>\n",
       "      <th>linearity(51)</th>\n",
       "      <th>omnivariance(51)</th>\n",
       "      <th>planarity(51)</th>\n",
       "      <th>sphericity(51)</th>\n",
       "    </tr>\n",
       "  </thead>\n",
       "  <tbody>\n",
       "    <tr>\n",
       "      <th>12801</th>\n",
       "      <td>3.363989</td>\n",
       "      <td>-85.362411</td>\n",
       "      <td>51.534206</td>\n",
       "      <td>155.0</td>\n",
       "      <td>27</td>\n",
       "      <td>19</td>\n",
       "      <td>0.006112</td>\n",
       "      <td>0.004801</td>\n",
       "      <td>0.001285</td>\n",
       "      <td>0.789751</td>\n",
       "      <td>0.105350</td>\n",
       "      <td>0.065343</td>\n",
       "      <td>0.012198</td>\n",
       "      <td>0.214527</td>\n",
       "      <td>0.003353</td>\n",
       "      <td>0.575223</td>\n",
       "      <td>0.210249</td>\n",
       "    </tr>\n",
       "    <tr>\n",
       "      <th>12831</th>\n",
       "      <td>3.329983</td>\n",
       "      <td>-85.357216</td>\n",
       "      <td>51.536343</td>\n",
       "      <td>175.0</td>\n",
       "      <td>27</td>\n",
       "      <td>19</td>\n",
       "      <td>0.005869</td>\n",
       "      <td>0.002909</td>\n",
       "      <td>0.001102</td>\n",
       "      <td>0.812179</td>\n",
       "      <td>0.111569</td>\n",
       "      <td>0.054649</td>\n",
       "      <td>0.009880</td>\n",
       "      <td>0.504367</td>\n",
       "      <td>0.002660</td>\n",
       "      <td>0.307812</td>\n",
       "      <td>0.187821</td>\n",
       "    </tr>\n",
       "    <tr>\n",
       "      <th>12860</th>\n",
       "      <td>3.315848</td>\n",
       "      <td>-85.369858</td>\n",
       "      <td>51.559479</td>\n",
       "      <td>175.0</td>\n",
       "      <td>27</td>\n",
       "      <td>19</td>\n",
       "      <td>0.006022</td>\n",
       "      <td>0.002450</td>\n",
       "      <td>0.001185</td>\n",
       "      <td>0.803149</td>\n",
       "      <td>0.122751</td>\n",
       "      <td>0.053501</td>\n",
       "      <td>0.009657</td>\n",
       "      <td>0.593193</td>\n",
       "      <td>0.002596</td>\n",
       "      <td>0.209956</td>\n",
       "      <td>0.196851</td>\n",
       "    </tr>\n",
       "    <tr>\n",
       "      <th>12888</th>\n",
       "      <td>3.286167</td>\n",
       "      <td>-85.368858</td>\n",
       "      <td>51.566643</td>\n",
       "      <td>175.0</td>\n",
       "      <td>27</td>\n",
       "      <td>19</td>\n",
       "      <td>0.006207</td>\n",
       "      <td>0.002183</td>\n",
       "      <td>0.001130</td>\n",
       "      <td>0.817957</td>\n",
       "      <td>0.118689</td>\n",
       "      <td>0.052587</td>\n",
       "      <td>0.009520</td>\n",
       "      <td>0.648256</td>\n",
       "      <td>0.002483</td>\n",
       "      <td>0.169701</td>\n",
       "      <td>0.182043</td>\n",
       "    </tr>\n",
       "    <tr>\n",
       "      <th>12914</th>\n",
       "      <td>3.299975</td>\n",
       "      <td>-85.643295</td>\n",
       "      <td>51.539997</td>\n",
       "      <td>195.0</td>\n",
       "      <td>27</td>\n",
       "      <td>19</td>\n",
       "      <td>0.004047</td>\n",
       "      <td>0.002875</td>\n",
       "      <td>0.000990</td>\n",
       "      <td>0.755292</td>\n",
       "      <td>0.125162</td>\n",
       "      <td>0.045970</td>\n",
       "      <td>0.007912</td>\n",
       "      <td>0.289576</td>\n",
       "      <td>0.002259</td>\n",
       "      <td>0.465716</td>\n",
       "      <td>0.244708</td>\n",
       "    </tr>\n",
       "  </tbody>\n",
       "</table>\n",
       "</div>"
      ],
      "text/plain": [
       "              x          y          z  reflectance  label  class    e1(51)  \\\n",
       "12801  3.363989 -85.362411  51.534206        155.0     27     19  0.006112   \n",
       "12831  3.329983 -85.357216  51.536343        175.0     27     19  0.005869   \n",
       "12860  3.315848 -85.369858  51.559479        175.0     27     19  0.006022   \n",
       "12888  3.286167 -85.368858  51.566643        175.0     27     19  0.006207   \n",
       "12914  3.299975 -85.643295  51.539997        195.0     27     19  0.004047   \n",
       "\n",
       "         e2(51)    e3(51)  anisotropy(51)  curvature(51)  eigenentropy(51)  \\\n",
       "12801  0.004801  0.001285        0.789751       0.105350          0.065343   \n",
       "12831  0.002909  0.001102        0.812179       0.111569          0.054649   \n",
       "12860  0.002450  0.001185        0.803149       0.122751          0.053501   \n",
       "12888  0.002183  0.001130        0.817957       0.118689          0.052587   \n",
       "12914  0.002875  0.000990        0.755292       0.125162          0.045970   \n",
       "\n",
       "       eigen_sum(51)  linearity(51)  omnivariance(51)  planarity(51)  \\\n",
       "12801       0.012198       0.214527          0.003353       0.575223   \n",
       "12831       0.009880       0.504367          0.002660       0.307812   \n",
       "12860       0.009657       0.593193          0.002596       0.209956   \n",
       "12888       0.009520       0.648256          0.002483       0.169701   \n",
       "12914       0.007912       0.289576          0.002259       0.465716   \n",
       "\n",
       "       sphericity(51)  \n",
       "12801        0.210249  \n",
       "12831        0.187821  \n",
       "12860        0.196851  \n",
       "12888        0.182043  \n",
       "12914        0.244708  "
      ]
     },
     "execution_count": 14,
     "metadata": {},
     "output_type": "execute_result"
    }
   ],
   "source": [
    "\n",
    "cloud3.points.head()"
   ]
  },
  {
   "cell_type": "code",
   "execution_count": 15,
   "metadata": {},
   "outputs": [],
   "source": [
    "tree=RandomForestClassifier()"
   ]
  },
  {
   "cell_type": "code",
   "execution_count": 16,
   "metadata": {},
   "outputs": [],
   "source": [
    "\n",
    "cloud3.points.drop(labels=[\"label\"],inplace=True,axis=1)\n",
    "cloud3.points.drop(labels=[\"x\",\"y\",\"z\",\"reflectance\"],inplace=True,axis=1)\n",
    "target=cloud3.points[\"class\"]\n",
    "cloud3.points.drop(labels=[\"class\"],inplace=True,axis=1)"
   ]
  },
  {
   "cell_type": "code",
   "execution_count": 17,
   "metadata": {},
   "outputs": [
    {
     "data": {
      "text/plain": [
       "RandomForestClassifier(bootstrap=True, class_weight=None, criterion='gini',\n",
       "            max_depth=None, max_features='auto', max_leaf_nodes=None,\n",
       "            min_impurity_decrease=0.0, min_impurity_split=None,\n",
       "            min_samples_leaf=1, min_samples_split=2,\n",
       "            min_weight_fraction_leaf=0.0, n_estimators=10, n_jobs=1,\n",
       "            oob_score=False, random_state=None, verbose=0,\n",
       "            warm_start=False)"
      ]
     },
     "execution_count": 17,
     "metadata": {},
     "output_type": "execute_result"
    }
   ],
   "source": [
    "tree.fit(cloud3.points,target)"
   ]
  },
  {
   "cell_type": "code",
   "execution_count": 18,
   "metadata": {},
   "outputs": [
    {
     "name": "stdout",
     "output_type": "stream",
     "text": [
      "Accuracy: 0.9818924062197779\n"
     ]
    }
   ],
   "source": [
    "prediction=tree.predict(cloud3.points)\n",
    "print(\"Accuracy:\",accuracy_score(target,prediction))"
   ]
  },
  {
   "cell_type": "markdown",
   "metadata": {},
   "source": [
    "This is the part where the feature extraction process is applied on the test set"
   ]
  },
  {
   "cell_type": "code",
   "execution_count": 19,
   "metadata": {},
   "outputs": [],
   "source": [
    "#voxel grid downsampling will be done here\n",
    "#open3d.voxelgrid_downsampling(cloud1,voxel=0.5)"
   ]
  },
  {
   "cell_type": "code",
   "execution_count": 20,
   "metadata": {},
   "outputs": [],
   "source": [
    "#p linkage segmentation and feature histogram analyzer"
   ]
  },
  {
   "cell_type": "code",
   "execution_count": 21,
   "metadata": {},
   "outputs": [],
   "source": [
    "cloud4=PyntCloud(cloud1.points[cloud1.points[\"class\"]!=2])\n",
    "cloud4=PyntCloud(cloud4.points[cloud4.points[\"class\"]!=1])"
   ]
  },
  {
   "cell_type": "code",
   "execution_count": 22,
   "metadata": {},
   "outputs": [],
   "source": [
    "neigh1=cloud4.get_neighbors(k=50)"
   ]
  },
  {
   "cell_type": "code",
   "execution_count": 23,
   "metadata": {},
   "outputs": [
    {
     "data": {
      "text/plain": [
       "(1099746, 50)"
      ]
     },
     "execution_count": 23,
     "metadata": {},
     "output_type": "execute_result"
    }
   ],
   "source": [
    "neigh1.shape"
   ]
  },
  {
   "cell_type": "code",
   "execution_count": 24,
   "metadata": {},
   "outputs": [],
   "source": [
    "#kde=KernelDensity(kernel='gaussian',bandwidth=0.2).fit(cloud.points[['x','y','z']])\n",
    "#density=kde.score_samples(cloud.points[['x','y','z']])\n",
    "#cloud.points.add(density,axis=1)\n",
    "#vox=cloud.add_structure(\"voxel_grid\",x_y_z=cloud.points[['x','y','z']])\n",
    "#vox_x=cloud.add_scalar_field(\"voxel_x\",voxelgrid_id=vox)\n",
    "#vox_y=cloud.add_scalar_field(\"voxel_y\",voxelgrid_id=vox)\n",
    "#vox_z=cloud.add_scalar_field(\"voxel_z\",voxelgrid_id=vox)\n",
    "#inc=cloud.add_scalar_field(\"inclination_degrees\")\n",
    "#ori=cloud.add_scalar_field(\"orientation_degrees\")\n",
    "eig=cloud4.add_scalar_field(\"eigen_values\",k_neighbors=neigh1)\n",
    "ani=cloud4.add_scalar_field(\"anisotropy\",ev=eig)\n",
    "cur=cloud4.add_scalar_field(\"curvature\",ev=eig)\n",
    "eigent=cloud4.add_scalar_field(\"eigenentropy\",ev=eig)\n",
    "su=cloud4.add_scalar_field(\"eigen_sum\",ev=eig)\n",
    "lin=cloud4.add_scalar_field(\"linearity\",ev=eig)\n",
    "om=cloud4.add_scalar_field(\"omnivariance\",ev=eig)\n",
    "pla=cloud4.add_scalar_field(\"planarity\",ev=eig)\n",
    "sph=cloud4.add_scalar_field(\"sphericity\",ev=eig)"
   ]
  },
  {
   "cell_type": "code",
   "execution_count": 25,
   "metadata": {},
   "outputs": [],
   "source": [
    "cloud4.points.drop(labels=[\"label\"],inplace=True,axis=1)\n",
    "target1=cloud4.points[\"class\"]\n",
    "cloud4.points.drop(labels=[\"class\"],inplace=True,axis=1)\n",
    "cloud4.points.drop(labels=[\"x\",\"y\",\"z\",\"reflectance\"],inplace=True,axis=1)"
   ]
  },
  {
   "cell_type": "code",
   "execution_count": 30,
   "metadata": {},
   "outputs": [
    {
     "name": "stdout",
     "output_type": "stream",
     "text": [
      "Accuracy: 0.9175345943517866\n"
     ]
    }
   ],
   "source": [
    "prediction1=tree.predict(cloud4.points)\n",
    "print(\"Accuracy:\",accuracy_score(target1,prediction1))"
   ]
  },
  {
   "cell_type": "code",
   "execution_count": null,
   "metadata": {},
   "outputs": [],
   "source": []
  }
 ],
 "metadata": {
  "kernelspec": {
   "display_name": "Python 3",
   "language": "python",
   "name": "python3"
  },
  "language_info": {
   "codemirror_mode": {
    "name": "ipython",
    "version": 3
   },
   "file_extension": ".py",
   "mimetype": "text/x-python",
   "name": "python",
   "nbconvert_exporter": "python",
   "pygments_lexer": "ipython3",
   "version": "3.6.4"
  }
 },
 "nbformat": 4,
 "nbformat_minor": 2
}
