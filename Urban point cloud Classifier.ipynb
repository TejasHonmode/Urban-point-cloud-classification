{
 "cells": [
  {
   "cell_type": "code",
   "execution_count": 1,
   "metadata": {},
   "outputs": [
    {
     "name": "stderr",
     "output_type": "stream",
     "text": [
      "Using TensorFlow backend.\n"
     ]
    }
   ],
   "source": [
    "##The required library are imported here\n",
    "import numpy as np\n",
    "import matplotlib.pyplot as plt\n",
    "import pandas as pd\n",
    "from pyntcloud import PyntCloud\n",
    "from pyntcloud import scalar_fields\n",
    "from sklearn.ensemble import RandomForestClassifier\n",
    "from sklearn.metrics import accuracy_score\n",
    "from sklearn.ensemble import GradientBoostingClassifier\n",
    "from sklearn.neighbors.kde import KernelDensity\n",
    "import keras\n",
    "import tensorflow"
   ]
  },
  {
   "cell_type": "code",
   "execution_count": 2,
   "metadata": {},
   "outputs": [
    {
     "name": "stdout",
     "output_type": "stream",
     "text": [
      "PyntCloud\n",
      "10000000 points with 3 scalar fields\n",
      "0 faces in mesh\n",
      "0 kdtrees\n",
      "0 voxelgrids\n",
      "Centroid: -7.090676784515381, -124.74476623535156, 45.12932205200195\n",
      "Other attributes:\n",
      "\n"
     ]
    }
   ],
   "source": [
    "##The point cloud dataset is taken as input and it is stored in the form of pandas dataframe\n",
    "cloud=PyntCloud.from_file(\"/home/rahul/machine learning/Projects/rueMadame_database/GT_Madame1_2.ply\")\n",
    "print(cloud)"
   ]
  },
  {
   "cell_type": "code",
   "execution_count": 3,
   "metadata": {},
   "outputs": [
    {
     "data": {
      "text/html": [
       "<div>\n",
       "<style scoped>\n",
       "    .dataframe tbody tr th:only-of-type {\n",
       "        vertical-align: middle;\n",
       "    }\n",
       "\n",
       "    .dataframe tbody tr th {\n",
       "        vertical-align: top;\n",
       "    }\n",
       "\n",
       "    .dataframe thead th {\n",
       "        text-align: right;\n",
       "    }\n",
       "</style>\n",
       "<table border=\"1\" class=\"dataframe\">\n",
       "  <thead>\n",
       "    <tr style=\"text-align: right;\">\n",
       "      <th></th>\n",
       "      <th>x</th>\n",
       "      <th>y</th>\n",
       "      <th>z</th>\n",
       "      <th>reflectance</th>\n",
       "      <th>label</th>\n",
       "      <th>class</th>\n",
       "    </tr>\n",
       "  </thead>\n",
       "  <tbody>\n",
       "    <tr>\n",
       "      <th>0</th>\n",
       "      <td>4.971637</td>\n",
       "      <td>-79.606361</td>\n",
       "      <td>43.221432</td>\n",
       "      <td>135.0</td>\n",
       "      <td>13</td>\n",
       "      <td>1</td>\n",
       "    </tr>\n",
       "    <tr>\n",
       "      <th>1</th>\n",
       "      <td>3.571728</td>\n",
       "      <td>-81.574989</td>\n",
       "      <td>42.445904</td>\n",
       "      <td>195.0</td>\n",
       "      <td>323</td>\n",
       "      <td>2</td>\n",
       "    </tr>\n",
       "    <tr>\n",
       "      <th>2</th>\n",
       "      <td>4.993350</td>\n",
       "      <td>-79.458405</td>\n",
       "      <td>43.303757</td>\n",
       "      <td>135.0</td>\n",
       "      <td>13</td>\n",
       "      <td>1</td>\n",
       "    </tr>\n",
       "    <tr>\n",
       "      <th>3</th>\n",
       "      <td>3.720481</td>\n",
       "      <td>-81.474182</td>\n",
       "      <td>42.465771</td>\n",
       "      <td>195.0</td>\n",
       "      <td>323</td>\n",
       "      <td>2</td>\n",
       "    </tr>\n",
       "    <tr>\n",
       "      <th>4</th>\n",
       "      <td>5.009287</td>\n",
       "      <td>-79.310478</td>\n",
       "      <td>43.387627</td>\n",
       "      <td>155.0</td>\n",
       "      <td>13</td>\n",
       "      <td>1</td>\n",
       "    </tr>\n",
       "  </tbody>\n",
       "</table>\n",
       "</div>"
      ],
      "text/plain": [
       "          x          y          z  reflectance  label  class\n",
       "0  4.971637 -79.606361  43.221432        135.0     13      1\n",
       "1  3.571728 -81.574989  42.445904        195.0    323      2\n",
       "2  4.993350 -79.458405  43.303757        135.0     13      1\n",
       "3  3.720481 -81.474182  42.465771        195.0    323      2\n",
       "4  5.009287 -79.310478  43.387627        155.0     13      1"
      ]
     },
     "execution_count": 3,
     "metadata": {},
     "output_type": "execute_result"
    }
   ],
   "source": [
    "cloud.points.head()"
   ]
  },
  {
   "cell_type": "code",
   "execution_count": 4,
   "metadata": {},
   "outputs": [
    {
     "data": {
      "text/plain": [
       "<matplotlib.axes._subplots.AxesSubplot at 0x7fb7af9f4160>"
      ]
     },
     "execution_count": 4,
     "metadata": {},
     "output_type": "execute_result"
    },
    {
     "data": {
      "image/png": "[encoded data removed]",
      "text/plain": [
       "<Figure size 432x288 with 1 Axes>"
      ]
     },
     "metadata": {},
     "output_type": "display_data"
    }
   ],
   "source": [
    "cloud.points.boxplot()"
   ]
  },
  {
   "cell_type": "code",
   "execution_count": 5,
   "metadata": {},
   "outputs": [
    {
     "data": {
      "application/vnd.jupyter.widget-view+json": {
       "model_id": "da1aa226a55c45009d47637fb6928d52",
       "version_major": 2,
       "version_minor": 0
      },
      "text/plain": [
       "Renderer(camera=PerspectiveCamera(aspect=1.6, fov=90.0, position=(-7.090676784515381, -51.14215087890625, 163.…"
      ]
     },
     "metadata": {},
     "output_type": "display_data"
    },
    {
     "data": {
      "application/vnd.jupyter.widget-view+json": {
       "model_id": "e48e4dbf37fd47f5a00336ace787ef38",
       "version_major": 2,
       "version_minor": 0
      },
      "text/plain": [
       "HBox(children=(Label(value='Background color:'), ColorPicker(value='black'), Label(value='Point size:'), Float…"
      ]
     },
     "metadata": {},
     "output_type": "display_data"
    }
   ],
   "source": [
    "##Visualization of point cloud\n",
    "cloud.plot()"
   ]
  },
  {
   "cell_type": "code",
   "execution_count": 6,
   "metadata": {},
   "outputs": [
    {
     "name": "stdout",
     "output_type": "stream",
     "text": [
      "PyntCloud\n",
      "10000000 points with 3 scalar fields\n",
      "0 faces in mesh\n",
      "0 kdtrees\n",
      "0 voxelgrids\n",
      "Centroid: -12.104286193847656, -197.56027221679688, 46.1270637512207\n",
      "Other attributes:\n",
      "\n"
     ]
    }
   ],
   "source": [
    "cloud1=PyntCloud.from_file(\"/home/rahul/machine learning/Projects/rueMadame_database/GT_Madame1_3.ply\")\n",
    "print(cloud1)"
   ]
  },
  {
   "cell_type": "code",
   "execution_count": 7,
   "metadata": {},
   "outputs": [
    {
     "data": {
      "application/vnd.jupyter.widget-view+json": {
       "model_id": "4baaf2b00b984f6999002d7021ab2faa",
       "version_major": 2,
       "version_minor": 0
      },
      "text/plain": [
       "Renderer(camera=PerspectiveCamera(aspect=1.6, fov=90.0, position=(-12.104286193847656, -35.43043518066406, 166…"
      ]
     },
     "metadata": {},
     "output_type": "display_data"
    },
    {
     "data": {
      "application/vnd.jupyter.widget-view+json": {
       "model_id": "65e8b39c6afe41188325db74631e7f34",
       "version_major": 2,
       "version_minor": 0
      },
      "text/plain": [
       "HBox(children=(Label(value='Background color:'), ColorPicker(value='black'), Label(value='Point size:'), Float…"
      ]
     },
     "metadata": {},
     "output_type": "display_data"
    }
   ],
   "source": [
    "cloud1.plot()"
   ]
  },
  {
   "cell_type": "code",
   "execution_count": null,
   "metadata": {},
   "outputs": [],
   "source": [
    "#voxel grid downsampling will be done here\n",
    "#open3d.voxelgrid_downsampling(cloud,voxel=0.5)"
   ]
  },
  {
   "cell_type": "code",
   "execution_count": 9,
   "metadata": {},
   "outputs": [],
   "source": [
    "##Cacluate 10 neighbours for determining the geometrical features of each point\n",
    "neigh=cloud.get_neighbors(k=10)\n"
   ]
  },
  {
   "cell_type": "code",
   "execution_count": 10,
   "metadata": {},
   "outputs": [
    {
     "data": {
      "text/plain": [
       "(10000000, 50)"
      ]
     },
     "execution_count": 10,
     "metadata": {},
     "output_type": "execute_result"
    }
   ],
   "source": [
    "neigh.shape"
   ]
  },
  {
   "cell_type": "code",
   "execution_count": null,
   "metadata": {},
   "outputs": [],
   "source": [
    "kde=KernelDensity(kernel='gaussian',bandwidth=0.2).fit(cloud.points[['x','y','z']])\n",
    "density=kde.score_samples(cloud.points[['x','y','z']])\n",
    "cloud.points.add(density,axis=1)\n",
    "vox=cloud.add_structure(\"voxel_grid\",x_y_z=cloud.points[['x','y','z']])\n",
    "vox_x=cloud.add_scalar_field(\"voxel_x\",voxelgrid_id=vox)\n",
    "vox_y=cloud.add_scalar_field(\"voxel_y\",voxelgrid_id=vox)\n",
    "vox_z=cloud.add_scalar_field(\"voxel_z\",voxelgrid_id=vox)\n",
    "inc=cloud.add_scalar_field(\"inclination_degrees\")\n",
    "ori=cloud.add_scalar_field(\"orientation_degrees\")\n",
    "eig=cloud.add_scalar_field(\"eigen_values\",k_neighbors=neigh)\n",
    "ani=cloud.add_scalar_field(\"anisotrophy\",ev=eig)\n",
    "cur=cloud.add_scalar_field(\"curvature\",ev=eig)\n",
    "eigent=cloud.add_scalar_field(\"eigentrophy\"ev=eig)\n",
    "su=cloud.add_scalar_fields(\"eigensum\",ev=eig)\n",
    "lin=cloud.add_scalar_fields(\"linearity\",ev=eig)\n",
    "om=cloud.add_scalar_fields(\"omnivariance\",ev=eig)\n",
    "pla=cloud.add_scalar_fields(\"planarity\",ev=eig)\n",
    "sph=cloud.add_scalar_fields.(\"sphericity\",ev=eig)"
   ]
  },
  {
   "cell_type": "code",
   "execution_count": 8,
   "metadata": {},
   "outputs": [],
   "source": [
    "cloud.points.drop(labels=[\"label\"],inplace=True,axis=1)\n",
    "cloud.points.drop(labels=[\"x\",\"y\",\"z\",\"reflectance\"],inplace=True,axis=1)"
   ]
  },
  {
   "cell_type": "code",
   "execution_count": null,
   "metadata": {},
   "outputs": [],
   "source": [
    "tree=RandomForestClassifier()"
   ]
  },
  {
   "cell_type": "code",
   "execution_count": null,
   "metadata": {},
   "outputs": [],
   "source": [
    "target=cloud.points[\"class\"]\n",
    "cloud.points.drop(labels=[\"class\"],inplace=True,axis=1)"
   ]
  },
  {
   "cell_type": "code",
   "execution_count": null,
   "metadata": {},
   "outputs": [],
   "source": [
    "tree.fit(cloud,target)"
   ]
  },
  {
   "cell_type": "code",
   "execution_count": null,
   "metadata": {},
   "outputs": [],
   "source": [
    "prediction=forest.predict(cloud)\n",
    "print(\"Accuracy:\",accuracy_score(target,prediction))"
   ]
  },
  {
   "cell_type": "markdown",
   "metadata": {},
   "source": [
    "This is the part where the feature extraction process is applied on the test set"
   ]
  },
  {
   "cell_type": "code",
   "execution_count": null,
   "metadata": {},
   "outputs": [],
   "source": [
    "#voxel grid downsampling will be done here\n",
    "#open3d.voxelgrid_downsampling(cloud1,voxel=0.5)"
   ]
  },
  {
   "cell_type": "code",
   "execution_count": null,
   "metadata": {},
   "outputs": [],
   "source": [
    "#p linkage segmentation and feature histogram analyzer"
   ]
  },
  {
   "cell_type": "code",
   "execution_count": null,
   "metadata": {},
   "outputs": [],
   "source": [
    "cloud1.plot()"
   ]
  },
  {
   "cell_type": "code",
   "execution_count": null,
   "metadata": {},
   "outputs": [],
   "source": [
    "neigh1=cloud1.get_neighbors(k=50)"
   ]
  },
  {
   "cell_type": "code",
   "execution_count": null,
   "metadata": {},
   "outputs": [],
   "source": [
    "neigh1.shape"
   ]
  },
  {
   "cell_type": "code",
   "execution_count": null,
   "metadata": {},
   "outputs": [],
   "source": [
    "kde=KernelDensity(kernel='gaussian',bandwidth=0.2).fit(cloud.points[['x','y','z']])\n",
    "density=kde.score_samples(cloud.points[['x','y','z']])\n",
    "cloud.points.add(density,axis=1)\n",
    "vox=cloud.add_structure(\"voxel_grid\",x_y_z=cloud.points[['x','y','z']])\n",
    "vox_x=cloud.add_scalar_field(\"voxel_x\",voxelgrid_id=vox)\n",
    "vox_y=cloud.add_scalar_field(\"voxel_y\",voxelgrid_id=vox)\n",
    "vox_z=cloud.add_scalar_field(\"voxel_z\",voxelgrid_id=vox)\n",
    "inc=cloud.add_scalar_field(\"inclination_degrees\")\n",
    "ori=cloud.add_scalar_field(\"orientation_degrees\")\n",
    "eig=cloud.add_scalar_field(\"eigen_values\",k_neighbors=neigh)\n",
    "ani=cloud.add_scalar_field(\"anisotrophy\",ev=eig)\n",
    "cur=cloud.add_scalar_field(\"curvature\",ev=eig)\n",
    "eigent=cloud.add_scalar_field(\"eigentrophy\"ev=eig)\n",
    "su=cloud.add_scalar_fields(\"eigensum\",ev=eig)\n",
    "lin=cloud.add_scalar_fields(\"linearity\",ev=eig)\n",
    "om=cloud.add_scalar_fields(\"omnivariance\",ev=eig)\n",
    "pla=cloud.add_scalar_fields(\"planarity\",ev=eig)\n",
    "sph=cloud.add_scalar_fields.(\"sphericity\",ev=eig)"
   ]
  },
  {
   "cell_type": "code",
   "execution_count": null,
   "metadata": {},
   "outputs": [],
   "source": [
    "cloud.points.drop(labels=[\"label\"],inplace=True,axis=1)\n",
    "target1=cloud.points[\"class\"]\n",
    "cloud.points.drop(labels=[\"class\"],inplace=True,axis=1)\n",
    "cloud1.points.drop(labels=[\"x\",\"y\",\"z\",\"reflectance\"],inplace=True,axis=1)"
   ]
  },
  {
   "cell_type": "code",
   "execution_count": null,
   "metadata": {},
   "outputs": [],
   "source": [
    "prediction1=forest.predict(cloud1)\n",
    "print(\"Accuracy:\",accuracy_score(target1,prediction1)"
   ]
  }
 ],
 "metadata": {
  "kernelspec": {
   "display_name": "Python 3",
   "language": "python",
   "name": "python3"
  },
  "language_info": {
   "codemirror_mode": {
    "name": "ipython",
    "version": 3
   },
   "file_extension": ".py",
   "mimetype": "text/x-python",
   "name": "python",
   "nbconvert_exporter": "python",
   "pygments_lexer": "ipython3",
   "version": "3.6.4"
  }
 },
 "nbformat": 4,
 "nbformat_minor": 2
}
